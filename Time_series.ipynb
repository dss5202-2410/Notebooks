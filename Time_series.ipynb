{
  "nbformat": 4,
  "nbformat_minor": 0,
  "metadata": {
    "colab": {
      "provenance": [],
      "authorship_tag": "ABX9TyPBPfoIjmcrVqQx+aDpST0T",
      "include_colab_link": true
    },
    "kernelspec": {
      "name": "python3",
      "display_name": "Python 3"
    },
    "language_info": {
      "name": "python"
    }
  },
  "cells": [
    {
      "cell_type": "markdown",
      "metadata": {
        "id": "view-in-github",
        "colab_type": "text"
      },
      "source": [
        "<a href=\"https://colab.research.google.com/github/dss5202-2410/Notebooks/blob/main/Time_series.ipynb\" target=\"_parent\"><img src=\"https://colab.research.google.com/assets/colab-badge.svg\" alt=\"Open In Colab\"/></a>"
      ]
    },
    {
      "cell_type": "markdown",
      "source": [
        "# Working with time series\n",
        "\n",
        "`Pandas` contains a fairly extensive set of tools for working with dates, times, and time-indexed data. Data and time data come in a few flavors, including the following:\n",
        "\n",
        "+ Time stamps reference particular moments in time (e.g., March 26, 2024 at 10pm).\n",
        "\n",
        "+ Time intervals and periods reference a length of time between a particular beginning and end point; for example, the year 2023. Periods usually reference a special case of time intervals in which each interval is of uniform length and does not overlap (e.g., 24 hour-long periods comprising days).\n",
        "\n",
        "+ Time deltas or durations reference an exact length of time (e.g., a duration of 22.56 seconds).\n",
        "\n",
        "We will introduce how to work with each of these types of date/time data in Pandas."
      ],
      "metadata": {
        "id": "3rYA_KTnFn4X"
      }
    },
    {
      "cell_type": "markdown",
      "source": [
        "## Date and time in Python\n",
        "\n",
        "The Python world has a number of available representations of dates, times, deltas, and timespans. While the time series tools provided by Pandas tend to be the most useful for data science applications, it is helpful to see their relationship to other packages used in Python.\n",
        "\n",
        "Python's basic objects for working with dates and times reside in the built-in `datetime` module. Along with the third-party `dateutil` module, you can use it to quickly perform a host of useful functionalities on dates and times.\n",
        "\n",
        "For example, you can manually build a date using the datetime type:"
      ],
      "metadata": {
        "id": "qs2AiTa-GBwM"
      }
    },
    {
      "cell_type": "code",
      "execution_count": 1,
      "metadata": {
        "colab": {
          "base_uri": "https://localhost:8080/"
        },
        "id": "FcyPomv3FkCE",
        "outputId": "11ced22d-727e-4af3-b8bb-542b942cfe1e"
      },
      "outputs": [
        {
          "output_type": "execute_result",
          "data": {
            "text/plain": [
              "datetime.datetime(2024, 3, 26, 0, 0)"
            ]
          },
          "metadata": {},
          "execution_count": 1
        }
      ],
      "source": [
        "from datetime import datetime\n",
        "datetime(year = 2024, month = 3, day = 26)"
      ]
    },
    {
      "cell_type": "markdown",
      "source": [
        "Or, using the `dateutil` module, you can parse dates from a variety of string formats:"
      ],
      "metadata": {
        "id": "rHxA_zT3GXcM"
      }
    },
    {
      "cell_type": "code",
      "source": [
        "from dateutil import parser\n",
        "date = parser.parse(\"26th of March, 2024\")\n",
        "date"
      ],
      "metadata": {
        "colab": {
          "base_uri": "https://localhost:8080/"
        },
        "id": "QyucP3i9GcJu",
        "outputId": "32c238f3-6da4-40b6-9402-e7ce42ada294"
      },
      "execution_count": 3,
      "outputs": [
        {
          "output_type": "execute_result",
          "data": {
            "text/plain": [
              "datetime.datetime(2024, 3, 26, 0, 0)"
            ]
          },
          "metadata": {},
          "execution_count": 3
        }
      ]
    },
    {
      "cell_type": "markdown",
      "source": [
        "Once you have a `datetime` object, you can do things like printing the day of the week.\n",
        "\n",
        "You can read more about the [strftime section in Python's datetime documentation](https://docs.python.org/3/library/datetime.html#strftime-and-strptime-behavior)."
      ],
      "metadata": {
        "id": "RIlNrrw-Gm9I"
      }
    },
    {
      "cell_type": "code",
      "source": [
        "date.strftime('%A')"
      ],
      "metadata": {
        "colab": {
          "base_uri": "https://localhost:8080/",
          "height": 35
        },
        "id": "BrAVfnHoGoNj",
        "outputId": "a8dc8a54-d9d8-48c2-e46b-a66e74715b46"
      },
      "execution_count": 4,
      "outputs": [
        {
          "output_type": "execute_result",
          "data": {
            "text/plain": [
              "'Tuesday'"
            ],
            "application/vnd.google.colaboratory.intrinsic+json": {
              "type": "string"
            }
          },
          "metadata": {},
          "execution_count": 4
        }
      ]
    },
    {
      "cell_type": "markdown",
      "source": [
        "The power of `datetime` and `dateutil` lie in their flexibility and easy syntax: You can use these objects and their built-in methods to easily perform nearly any operation you might be interested in.\n",
        "\n",
        "Where they break down is when you wish to work with large arrays of dates and times: Just as lists of Python numerical variables are sub-optimal compared to NumPy-style typed numerical arrays, lists of Python datetime objects are sub-optimal compared to typed arrays of encoded dates."
      ],
      "metadata": {
        "id": "sOL1MKUPG176"
      }
    },
    {
      "cell_type": "markdown",
      "source": [
        "## `Numpy`'s `datetime64` type\n",
        "\n",
        "The weaknesses of Python's datetime format inspired the `NumPy` team to add a set of native time series data type to `NumPy`. The `datetime64` dtype encodes dates as 64-bit integers, and thus allows arrays of dates to be represented very compactly. The `datetime64` requires a very specific input format:"
      ],
      "metadata": {
        "id": "srL1I9-QG6EJ"
      }
    },
    {
      "cell_type": "code",
      "source": [
        "import numpy as np\n",
        "date1 = np.datetime64('2024-03-26')\n",
        "date1"
      ],
      "metadata": {
        "colab": {
          "base_uri": "https://localhost:8080/"
        },
        "id": "eRi5iPFIHPZZ",
        "outputId": "390d0804-ca26-43f9-bceb-d9a8aa5a25fd"
      },
      "execution_count": 7,
      "outputs": [
        {
          "output_type": "execute_result",
          "data": {
            "text/plain": [
              "numpy.datetime64('2024-03-26')"
            ]
          },
          "metadata": {},
          "execution_count": 7
        }
      ]
    },
    {
      "cell_type": "markdown",
      "source": [
        "Once we have this date formatted, we can quickly do vectorized operations on it:"
      ],
      "metadata": {
        "id": "bangbfAZHUoP"
      }
    },
    {
      "cell_type": "code",
      "source": [
        "date1 + np.arange(12)"
      ],
      "metadata": {
        "colab": {
          "base_uri": "https://localhost:8080/"
        },
        "id": "pS44ezUaHVty",
        "outputId": "8d636c97-694c-4f26-8793-ebf13377bccd"
      },
      "execution_count": 8,
      "outputs": [
        {
          "output_type": "execute_result",
          "data": {
            "text/plain": [
              "array(['2024-03-26', '2024-03-27', '2024-03-28', '2024-03-29',\n",
              "       '2024-03-30', '2024-03-31', '2024-04-01', '2024-04-02',\n",
              "       '2024-04-03', '2024-04-04', '2024-04-05', '2024-04-06'],\n",
              "      dtype='datetime64[D]')"
            ]
          },
          "metadata": {},
          "execution_count": 8
        }
      ]
    },
    {
      "cell_type": "markdown",
      "source": [
        "To be continued: https://jakevdp.github.io/PythonDataScienceHandbook/03.11-working-with-time-series.html"
      ],
      "metadata": {
        "id": "g3QgWKFjHlZV"
      }
    }
  ]
}