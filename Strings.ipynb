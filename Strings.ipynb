{
  "nbformat": 4,
  "nbformat_minor": 0,
  "metadata": {
    "colab": {
      "provenance": [],
      "authorship_tag": "ABX9TyMpHjBewuhINo5zvJ3aeDfq",
      "include_colab_link": true
    },
    "kernelspec": {
      "name": "python3",
      "display_name": "Python 3"
    },
    "language_info": {
      "name": "python"
    }
  },
  "cells": [
    {
      "cell_type": "markdown",
      "metadata": {
        "id": "view-in-github",
        "colab_type": "text"
      },
      "source": [
        "<a href=\"https://colab.research.google.com/github/dss5202-2410/Notebooks/blob/main/String_operations.ipynb\" target=\"_parent\"><img src=\"https://colab.research.google.com/assets/colab-badge.svg\" alt=\"Open In Colab\"/></a>"
      ]
    },
    {
      "cell_type": "markdown",
      "source": [
        "# String operations\n",
        "\n",
        "This section will cover some of python's built-in string methods and formatting operations, before moving on to a quick guide to the extremely useful subject of regular expressions. Such string manipulation patterns come up often in the context of data science work, and is one big perk of Python in this context.\n",
        "\n",
        "Strings in python can be define ausing either single or double quotes (they are functionally equivalent)."
      ],
      "metadata": {
        "id": "WY_Q8vsF6g0M"
      }
    },
    {
      "cell_type": "code",
      "execution_count": 1,
      "metadata": {
        "colab": {
          "base_uri": "https://localhost:8080/"
        },
        "id": "1wylF-gM6Yr6",
        "outputId": "edfa36be-3893-4bae-ef59-c545a3e8c1de"
      },
      "outputs": [
        {
          "output_type": "execute_result",
          "data": {
            "text/plain": [
              "True"
            ]
          },
          "metadata": {},
          "execution_count": 1
        }
      ],
      "source": [
        "x = 'a string'\n",
        "y = \"a string\"\n",
        "x == y"
      ]
    },
    {
      "cell_type": "markdown",
      "source": [
        "In addition, it is possible to define multi-line strings using a triple-quote syntax. The new lines are represented as `\\n` in display."
      ],
      "metadata": {
        "id": "Cl3yuBFt7QM3"
      }
    },
    {
      "cell_type": "code",
      "source": [
        "multiline_string = \"\"\"\n",
        "one\n",
        "two\n",
        "three\n",
        "\"\"\"\n",
        "multiline_string"
      ],
      "metadata": {
        "colab": {
          "base_uri": "https://localhost:8080/",
          "height": 35
        },
        "id": "AYUhXYnX7P_J",
        "outputId": "cb83beb8-2f65-4ba1-ea6f-708da84c93c6"
      },
      "execution_count": 2,
      "outputs": [
        {
          "output_type": "execute_result",
          "data": {
            "text/plain": [
              "'\\none\\ntwo\\nthree\\n'"
            ],
            "application/vnd.google.colaboratory.intrinsic+json": {
              "type": "string"
            }
          },
          "metadata": {},
          "execution_count": 2
        }
      ]
    },
    {
      "cell_type": "markdown",
      "source": [
        "## Simple string manipulation\n",
        "\n",
        "For basic manipulation of strings, Python's built-in string methods can be extremely convenient. If you have a background working in C or another low-level language, you will likely find the simplicity of Python's methods extremely refreshing. We introduced Python's string type and a few of these methods earlier; here we'll dive a bit deeper.\n",
        "\n",
        "Python makes it quite easy to adjust the case of a string. Here we'll look at the `upper()`, `lower()`, `capitalize()`, and `title()` functions, using the following messy string as an example:"
      ],
      "metadata": {
        "id": "l1LLwi-p7htr"
      }
    },
    {
      "cell_type": "code",
      "source": [
        "str1 = \"tHe qUICk bROWn fOx.\""
      ],
      "metadata": {
        "id": "na3X8FMm7wEJ"
      },
      "execution_count": 3,
      "outputs": []
    },
    {
      "cell_type": "code",
      "source": [
        "str1.upper()"
      ],
      "metadata": {
        "colab": {
          "base_uri": "https://localhost:8080/",
          "height": 35
        },
        "id": "czUiIfRf7zqu",
        "outputId": "52b74ed5-1e93-4fbd-d26a-67137f576d20"
      },
      "execution_count": 4,
      "outputs": [
        {
          "output_type": "execute_result",
          "data": {
            "text/plain": [
              "'THE QUICK BROWN FOX.'"
            ],
            "application/vnd.google.colaboratory.intrinsic+json": {
              "type": "string"
            }
          },
          "metadata": {},
          "execution_count": 4
        }
      ]
    },
    {
      "cell_type": "code",
      "source": [
        "str1.lower()"
      ],
      "metadata": {
        "colab": {
          "base_uri": "https://localhost:8080/",
          "height": 35
        },
        "id": "hweEOsQx701W",
        "outputId": "6ac70f10-7581-46c2-af1e-dcb68b4ad4b8"
      },
      "execution_count": 5,
      "outputs": [
        {
          "output_type": "execute_result",
          "data": {
            "text/plain": [
              "'the quick brown fox.'"
            ],
            "application/vnd.google.colaboratory.intrinsic+json": {
              "type": "string"
            }
          },
          "metadata": {},
          "execution_count": 5
        }
      ]
    },
    {
      "cell_type": "code",
      "source": [
        "str1.title()"
      ],
      "metadata": {
        "colab": {
          "base_uri": "https://localhost:8080/",
          "height": 35
        },
        "id": "UqblMcsY75yC",
        "outputId": "96125c2d-f77a-4f62-84b3-d8d9520713ac"
      },
      "execution_count": 6,
      "outputs": [
        {
          "output_type": "execute_result",
          "data": {
            "text/plain": [
              "'The Quick Brown Fox.'"
            ],
            "application/vnd.google.colaboratory.intrinsic+json": {
              "type": "string"
            }
          },
          "metadata": {},
          "execution_count": 6
        }
      ]
    },
    {
      "cell_type": "code",
      "source": [
        "str1.capitalize()"
      ],
      "metadata": {
        "colab": {
          "base_uri": "https://localhost:8080/",
          "height": 35
        },
        "id": "TyyxPzFG77oT",
        "outputId": "bf753f92-86c8-496b-ed62-f5cc3c184cb4"
      },
      "execution_count": 7,
      "outputs": [
        {
          "output_type": "execute_result",
          "data": {
            "text/plain": [
              "'The quick brown fox.'"
            ],
            "application/vnd.google.colaboratory.intrinsic+json": {
              "type": "string"
            }
          },
          "metadata": {},
          "execution_count": 7
        }
      ]
    },
    {
      "cell_type": "markdown",
      "source": [
        "Another common need is to remove spaces (or other characters) from the beginning or end of the string. The basic method of removing characters is the `strip()` function, which strips whitespace from the beginning and end of the line:"
      ],
      "metadata": {
        "id": "15ZitLaT7vY2"
      }
    },
    {
      "cell_type": "code",
      "source": [
        "str2 = '         this is the content         '\n",
        "str2.strip()"
      ],
      "metadata": {
        "colab": {
          "base_uri": "https://localhost:8080/",
          "height": 35
        },
        "id": "CuGyZW3b8G7t",
        "outputId": "2982ab66-c841-49cd-dfeb-4aec446c2092"
      },
      "execution_count": 8,
      "outputs": [
        {
          "output_type": "execute_result",
          "data": {
            "text/plain": [
              "'this is the content'"
            ],
            "application/vnd.google.colaboratory.intrinsic+json": {
              "type": "string"
            }
          },
          "metadata": {},
          "execution_count": 8
        }
      ]
    },
    {
      "cell_type": "markdown",
      "source": [
        "To remove just space to the right or left, use `rstrip()` or `lstrip()`, respectively:"
      ],
      "metadata": {
        "id": "-A66O8Le8KsB"
      }
    },
    {
      "cell_type": "code",
      "source": [
        "str2.rstrip()"
      ],
      "metadata": {
        "colab": {
          "base_uri": "https://localhost:8080/",
          "height": 35
        },
        "id": "immvAIAt8NYe",
        "outputId": "8ce1114d-1605-42d4-ec6c-925eaa4a114a"
      },
      "execution_count": 9,
      "outputs": [
        {
          "output_type": "execute_result",
          "data": {
            "text/plain": [
              "'         this is the content'"
            ],
            "application/vnd.google.colaboratory.intrinsic+json": {
              "type": "string"
            }
          },
          "metadata": {},
          "execution_count": 9
        }
      ]
    },
    {
      "cell_type": "markdown",
      "source": [
        "To remove characters other than spaces, you can pass the desired character to the `strip()` method:"
      ],
      "metadata": {
        "id": "d1L9L6-d8S3G"
      }
    },
    {
      "cell_type": "code",
      "source": [
        "str3 = \"000000000000435\"\n",
        "str3.strip('0')"
      ],
      "metadata": {
        "colab": {
          "base_uri": "https://localhost:8080/",
          "height": 35
        },
        "id": "pUbYjL4T8UEr",
        "outputId": "18ad4b3d-1525-4c01-ac32-85dd2120504a"
      },
      "execution_count": 10,
      "outputs": [
        {
          "output_type": "execute_result",
          "data": {
            "text/plain": [
              "'435'"
            ],
            "application/vnd.google.colaboratory.intrinsic+json": {
              "type": "string"
            }
          },
          "metadata": {},
          "execution_count": 10
        }
      ]
    },
    {
      "cell_type": "markdown",
      "source": [
        "## Finding and replacing substrings\n",
        "\n",
        "For the special case of checking for a substring at the beginning or end of a string, Python provides the `startswith()` and `endswith()` methods:"
      ],
      "metadata": {
        "id": "PrRTbm0T8cmU"
      }
    },
    {
      "cell_type": "code",
      "source": [
        "str4 = 'the quick brown fox jumped over a lazy dog'\n",
        "str4.startswith('a')"
      ],
      "metadata": {
        "colab": {
          "base_uri": "https://localhost:8080/"
        },
        "id": "rABX2Qlt80OQ",
        "outputId": "b7540973-6f37-4355-98f7-39701c71f878"
      },
      "execution_count": 12,
      "outputs": [
        {
          "output_type": "execute_result",
          "data": {
            "text/plain": [
              "False"
            ]
          },
          "metadata": {},
          "execution_count": 12
        }
      ]
    },
    {
      "cell_type": "code",
      "source": [
        "str4.endswith('dog')"
      ],
      "metadata": {
        "colab": {
          "base_uri": "https://localhost:8080/"
        },
        "id": "q9oUbzbR9CUm",
        "outputId": "ad54865c-1b00-4f76-f8f0-cb371cdf1712"
      },
      "execution_count": 13,
      "outputs": [
        {
          "output_type": "execute_result",
          "data": {
            "text/plain": [
              "True"
            ]
          },
          "metadata": {},
          "execution_count": 13
        }
      ]
    },
    {
      "cell_type": "markdown",
      "source": [
        "To go one step further and replace a given substring with a new string, you can use the `replace()` method. Here, let's replace 'brown' with 'red':"
      ],
      "metadata": {
        "id": "9qVLZL0m9FpH"
      }
    },
    {
      "cell_type": "code",
      "source": [
        "str4.replace(\"brown\", \"RED\")"
      ],
      "metadata": {
        "colab": {
          "base_uri": "https://localhost:8080/",
          "height": 35
        },
        "id": "b0CMMche9HO8",
        "outputId": "84232188-1b0a-43ff-8d67-a6a7f4cc5b29"
      },
      "execution_count": 14,
      "outputs": [
        {
          "output_type": "execute_result",
          "data": {
            "text/plain": [
              "'the quick red fox jumped over a lazy dog'"
            ],
            "application/vnd.google.colaboratory.intrinsic+json": {
              "type": "string"
            }
          },
          "metadata": {},
          "execution_count": 14
        }
      ]
    },
    {
      "cell_type": "code",
      "source": [
        "str4.replace('o', '*')"
      ],
      "metadata": {
        "colab": {
          "base_uri": "https://localhost:8080/",
          "height": 35
        },
        "id": "NuQ3SdeH9Otm",
        "outputId": "09dd9d29-c6cb-400d-c1fb-85d700616611"
      },
      "execution_count": 16,
      "outputs": [
        {
          "output_type": "execute_result",
          "data": {
            "text/plain": [
              "'the quick br*wn f*x jumped *ver a lazy d*g'"
            ],
            "application/vnd.google.colaboratory.intrinsic+json": {
              "type": "string"
            }
          },
          "metadata": {},
          "execution_count": 16
        }
      ]
    },
    {
      "cell_type": "markdown",
      "source": [
        "For a more flexible approach to this `replace()` functionality, see the discussion of regular expressions below."
      ],
      "metadata": {
        "id": "rlKcq3FA9YBz"
      }
    },
    {
      "cell_type": "markdown",
      "source": [
        "## Splitting and partitioning strings\n",
        "\n",
        "If you would like to find a substring and then split the string based on its location, the `partition()` and `split()` methods are what you're looking for. Both will return a sequence of substrings.\n",
        "\n",
        "The `partition()` method returns a tuple with three elements: the substring before the first instance of the split-point, the split-point itself, and the substring after:"
      ],
      "metadata": {
        "id": "D7bi6ktY9lCO"
      }
    },
    {
      "cell_type": "code",
      "source": [
        "str4.partition('fox')"
      ],
      "metadata": {
        "colab": {
          "base_uri": "https://localhost:8080/"
        },
        "id": "WepI1CeJ9rsv",
        "outputId": "b6430a20-59b5-4bc2-db18-ebc6f2869bb5"
      },
      "execution_count": 17,
      "outputs": [
        {
          "output_type": "execute_result",
          "data": {
            "text/plain": [
              "('the quick brown ', 'fox', ' jumped over a lazy dog')"
            ]
          },
          "metadata": {},
          "execution_count": 17
        }
      ]
    },
    {
      "cell_type": "markdown",
      "source": [
        "The `split()` method is perhaps more useful; it finds all instances of the split-point and returns the substrings in between. The default is to split on any whitespace, returning a list of the individual words in a string:"
      ],
      "metadata": {
        "id": "U4QruNX69wQv"
      }
    },
    {
      "cell_type": "code",
      "source": [
        "str4.split()"
      ],
      "metadata": {
        "colab": {
          "base_uri": "https://localhost:8080/"
        },
        "id": "sI80NZnA9yQB",
        "outputId": "f99cba09-6670-4ab7-cfdf-d360deb550a9"
      },
      "execution_count": 18,
      "outputs": [
        {
          "output_type": "execute_result",
          "data": {
            "text/plain": [
              "['the', 'quick', 'brown', 'fox', 'jumped', 'over', 'a', 'lazy', 'dog']"
            ]
          },
          "metadata": {},
          "execution_count": 18
        }
      ]
    },
    {
      "cell_type": "markdown",
      "source": [
        "## Flexible pattern matching with regular expressions\n",
        "\n",
        "The methods of python's str type give you a powerful set of tools for formatting, splitting, and manipulating string data. But even more powerful tools are available in Python's built-in regular expression module. Regular expressions are a huge topic; there are there are entire books written on the topic (including [Jeffrey E.F. Friedl’s Mastering Regular Expressions, 3rd Edition](https://www.oreilly.com/library/view/mastering-regular-expressions/0596528124/)), so it will be hard to do justice within just a single subsection.\n",
        "\n",
        "Fundamentally, regular expressions are a means of flexible pattern matching in strings. If you frequently use the command-line, you are probably familiar with this type of flexible matching with the \"`*`\" character, which acts as a wildcard.\n",
        "\n",
        "Regular expressions generalize this \"wildcard\" idea to a wide range of flexible string-matching sytaxes. The Python interface to regular expressions is contained in the built-in `re` module; as a simple example, let's use it to duplicate the functionality of the string `split()` method:"
      ],
      "metadata": {
        "id": "UTaIiHE692TT"
      }
    },
    {
      "cell_type": "code",
      "source": [
        "import re"
      ],
      "metadata": {
        "id": "ZIbdSHcQ99ej"
      },
      "execution_count": 22,
      "outputs": []
    },
    {
      "cell_type": "code",
      "source": [
        "regex1 = re.compile(\"\\s+\")\n",
        "regex1.split(str4)"
      ],
      "metadata": {
        "colab": {
          "base_uri": "https://localhost:8080/"
        },
        "id": "yFaRlTQ-_MTw",
        "outputId": "34507644-2b67-4b80-ed93-257a2a485591"
      },
      "execution_count": 23,
      "outputs": [
        {
          "output_type": "execute_result",
          "data": {
            "text/plain": [
              "['the', 'quick', 'brown', 'fox', 'jumped', 'over', 'a', 'lazy', 'dog']"
            ]
          },
          "metadata": {},
          "execution_count": 23
        }
      ]
    },
    {
      "cell_type": "markdown",
      "source": [
        "In the code above, we first compile a regular expression and use it to split a string.\n",
        "\n",
        "Just as Python's `split()` method returns a list of all substrings between whitespace, the regular expression `split()` method returns a list of all substrings between matches to the input pattern.\n",
        "\n",
        "In this case, the regular expression is `\\s+`.\n",
        "\n",
        "+ `\\s` is a special character that matches any whitespace (space, tab, newline, etc) and `+` is a character that indicates one or more of the entity preceding it.\n",
        "\n",
        "+ Therefore, the regular expression matches any substring consisting of one of more spaces.\n",
        "\n",
        "Similarly, the `regex.sub()` method operates much like `str.replace()`:"
      ],
      "metadata": {
        "id": "_2LvoizG_XN5"
      }
    },
    {
      "cell_type": "code",
      "source": [
        "regex2 = re.compile(\"brown\")\n",
        "regex2.sub(\"RED\", str4)"
      ],
      "metadata": {
        "colab": {
          "base_uri": "https://localhost:8080/",
          "height": 35
        },
        "id": "DG3XcwlrABUL",
        "outputId": "1dd09a5c-8797-40d9-b2e8-bf180634f5be"
      },
      "execution_count": 25,
      "outputs": [
        {
          "output_type": "execute_result",
          "data": {
            "text/plain": [
              "'the quick RED fox jumped over a lazy dog'"
            ],
            "application/vnd.google.colaboratory.intrinsic+json": {
              "type": "string"
            }
          },
          "metadata": {},
          "execution_count": 25
        }
      ]
    },
    {
      "cell_type": "markdown",
      "source": [
        "## A more complicated example\n",
        "\n",
        "But, you might ask, why would you want to use the more complicated and verbose syntax of regular expressions rather than the more intuitive and simple string methods? The advantage is that regular expressions offer far more flexibility.\n",
        "\n",
        "Here we'll consider a more complicated example: the common task of matching email addresses. I'll start by simply writing a (somewhat indecipherable) regular expression, and then walk through what is going on. Here it goes:"
      ],
      "metadata": {
        "id": "maM8KupDATUA"
      }
    },
    {
      "cell_type": "code",
      "source": [
        "regex_email = re.compile('\\w+@\\w+\\.[a-z]{3}')"
      ],
      "metadata": {
        "id": "KJ3NKfVQAYOg"
      },
      "execution_count": 27,
      "outputs": []
    },
    {
      "cell_type": "markdown",
      "source": [
        "Using this, if we're given a line from a document, we can quickly extract things that look like email addresses."
      ],
      "metadata": {
        "id": "g5Cpa_PwAbpf"
      }
    },
    {
      "cell_type": "code",
      "source": [
        "str5 = \"To email representative, try rep@python.org or the older address rep@google.com.\"\n",
        "regex_email.findall(str5)"
      ],
      "metadata": {
        "colab": {
          "base_uri": "https://localhost:8080/"
        },
        "id": "N9w2JIFaAb6H",
        "outputId": "f6e17fc9-39d0-48ad-fb86-f5f8d7545b0e"
      },
      "execution_count": 29,
      "outputs": [
        {
          "output_type": "execute_result",
          "data": {
            "text/plain": [
              "['rep@python.org', 'rep@google.com']"
            ]
          },
          "metadata": {},
          "execution_count": 29
        }
      ]
    },
    {
      "cell_type": "markdown",
      "source": [
        "We can do further operations, like replacing these email addresses with another string, perhaps to hide addresses in the output:"
      ],
      "metadata": {
        "id": "oTC3co_ZAzbI"
      }
    },
    {
      "cell_type": "code",
      "source": [
        "regex_email.sub('--@--.--', str5)"
      ],
      "metadata": {
        "colab": {
          "base_uri": "https://localhost:8080/",
          "height": 35
        },
        "id": "gtFD4zNbA0A7",
        "outputId": "90f9429e-82c3-41d9-cd23-81d394ac7d2d"
      },
      "execution_count": 30,
      "outputs": [
        {
          "output_type": "execute_result",
          "data": {
            "text/plain": [
              "'To email representative, try --@--.-- or the older address --@--.--.'"
            ],
            "application/vnd.google.colaboratory.intrinsic+json": {
              "type": "string"
            }
          },
          "metadata": {},
          "execution_count": 30
        }
      ]
    },
    {
      "cell_type": "markdown",
      "source": [
        "Finally, note that if you really want to match any email address, the preceding regular expression is far too simple. For example, it only allows addresses made of alphanumeric characters that end in one of several common domain suffixes. So, for example, the period used here means that we only find part of the address:"
      ],
      "metadata": {
        "id": "_fWRkAxLA64O"
      }
    },
    {
      "cell_type": "code",
      "source": [
        "regex_email.findall('barack.obama@whitehouse.gov')"
      ],
      "metadata": {
        "colab": {
          "base_uri": "https://localhost:8080/"
        },
        "id": "nxmzfA0oA9CK",
        "outputId": "fb533a03-83ff-4603-fb13-8d20e6c80959"
      },
      "execution_count": 31,
      "outputs": [
        {
          "output_type": "execute_result",
          "data": {
            "text/plain": [
              "['obama@whitehouse.gov']"
            ]
          },
          "metadata": {},
          "execution_count": 31
        }
      ]
    },
    {
      "cell_type": "markdown",
      "source": [
        "This goes to show how unforgiving regular expressions can be if you're not careful! If you search around online, you can find some suggestions for regular expressions that will match all valid emails, but beware: they are much more involved than the simple expression used here!"
      ],
      "metadata": {
        "id": "Axqa19kgBBUh"
      }
    },
    {
      "cell_type": "markdown",
      "source": [
        "## Basics of regular expressions\n",
        "\n",
        "The syntax of regular expressions is much too large a topic for this short section. Still, a bit of familiarity can go a long way: I will walk through some of the basic constructs here, and then list some more complete resources from which you can learn more. My hope is that the following quick primer will enable you to use these resources effectively.\n",
        "\n",
        "While simple letters or numbers are direct matches, there are a handful of characters that have special meanings within regular expressions. They are:\n",
        "\n",
        "```\n",
        ". ^ $ * + ? { } [ ] \\ | ( )\n",
        "```\n",
        "\n",
        "We will discuss the meaning of some of these momentarily. In the meantime, you should know that if you'd like to match any of these characters directly, you can escape them with a back-slash.\n",
        "\n",
        "The `r` preface in `r\"\\$\"` indicates a raw string."
      ],
      "metadata": {
        "id": "tu2Crsw0BJNA"
      }
    },
    {
      "cell_type": "code",
      "source": [
        "regex3 = re.compile(r\"\\$\")\n",
        "regex3.findall(\"the cost is $20\")"
      ],
      "metadata": {
        "colab": {
          "base_uri": "https://localhost:8080/"
        },
        "id": "XM5rUnlHB0BY",
        "outputId": "bbc388f6-294c-458d-c381-aec3b09e7d4c"
      },
      "execution_count": 33,
      "outputs": [
        {
          "output_type": "execute_result",
          "data": {
            "text/plain": [
              "['$']"
            ]
          },
          "metadata": {},
          "execution_count": 33
        }
      ]
    },
    {
      "cell_type": "markdown",
      "source": [
        "In standard Python strings, the backslash is used to indicate special characters. For example, a tab is indicated by \"\\t\":"
      ],
      "metadata": {
        "id": "8JUgMbSUCC4g"
      }
    },
    {
      "cell_type": "code",
      "source": [
        "print('a\\tb\\tc')"
      ],
      "metadata": {
        "colab": {
          "base_uri": "https://localhost:8080/"
        },
        "id": "9FxJBJ1NCF8J",
        "outputId": "7d4f80dd-daeb-4059-cb43-2a456b73913a"
      },
      "execution_count": 34,
      "outputs": [
        {
          "output_type": "stream",
          "name": "stdout",
          "text": [
            "a\tb\tc\n"
          ]
        }
      ]
    },
    {
      "cell_type": "markdown",
      "source": [
        "Such substitutions are not made in a raw string:"
      ],
      "metadata": {
        "id": "DgKj6ZukCJLJ"
      }
    },
    {
      "cell_type": "code",
      "source": [
        "print(r'a\\tb\\tc')"
      ],
      "metadata": {
        "colab": {
          "base_uri": "https://localhost:8080/"
        },
        "id": "RSXgNOIOCKHD",
        "outputId": "76afd76f-b8c1-49e6-92a1-38ba535a860c"
      },
      "execution_count": 35,
      "outputs": [
        {
          "output_type": "stream",
          "name": "stdout",
          "text": [
            "a\\tb\\tc\n"
          ]
        }
      ]
    },
    {
      "cell_type": "markdown",
      "source": [
        "Just as the \"`\\`\" character within regular expressions can escape special characters, turning them into normal characters, it can also be used to give normal characters special meaning. These special characters match specified groups of characters, and we've seen them before. In the email address regexp from before, we used the character \"`\\w`\", which is a special marker matching any alphanumeric character.\n",
        "\n",
        "Similarly, in the simple `split()` example, we also saw \"`\\s`\", a special marker indicating any whitespace character.\n",
        "\n",
        "Putting these together, we can create a regular expression that will match any two letters/digits with whitespace between them:"
      ],
      "metadata": {
        "id": "E1mWoat8CMyZ"
      }
    },
    {
      "cell_type": "code",
      "source": [
        "regex4 = re.compile(r'\\w\\s\\w')\n",
        "regex4.findall('the fox is 9 years old')"
      ],
      "metadata": {
        "colab": {
          "base_uri": "https://localhost:8080/"
        },
        "id": "QFKP4OEZCUkl",
        "outputId": "c6d0c9f8-32d1-4bca-b1a6-884b6f6c95b4"
      },
      "execution_count": 36,
      "outputs": [
        {
          "output_type": "execute_result",
          "data": {
            "text/plain": [
              "['e f', 'x i', 's 9', 's o']"
            ]
          },
          "metadata": {},
          "execution_count": 36
        }
      ]
    },
    {
      "cell_type": "markdown",
      "source": [
        "The following table lists a few of these characters that are commonly useful:\n",
        "\n",
        "+ \"`\\d`\"\tMatch any digit\n",
        "\n",
        "+ \"`\\D`\"\tMatch any non-digit\n",
        "\n",
        "+ \"`\\s`\"\tMatch any whitespace\n",
        "\n",
        "+ \"`\\S`\"\tMatch any non-whitespace\n",
        "\n",
        "+ \"`\\w`\"\tMatch any alphanumeric char\n",
        "\n",
        "+ \"`\\W`\"\tMatch any non-alphanumeric char\n",
        "\n",
        "This is not a comprehensive list or description; for more details, see [Python's regular expression syntax documentation](https://docs.python.org/3/library/re.html#re-syntax)."
      ],
      "metadata": {
        "id": "Bb_P7cH9CdQ1"
      }
    },
    {
      "cell_type": "markdown",
      "source": [
        "## Suquare brackets match custom character groups\n",
        "\n",
        "If the built-in character groups aren't specific enough for you, you can use square brackets to specify any set of characters you're interested in. For example, the following will match any lower-case vowel:"
      ],
      "metadata": {
        "id": "jWq1RBZOCzrN"
      }
    },
    {
      "cell_type": "code",
      "source": [
        "regex5 = re.compile('[aeiou]')\n",
        "regex5.split('consequential')"
      ],
      "metadata": {
        "colab": {
          "base_uri": "https://localhost:8080/"
        },
        "id": "Ov_FU_G6C45k",
        "outputId": "1bfebdf1-1de9-4b9e-a354-f49060466162"
      },
      "execution_count": 37,
      "outputs": [
        {
          "output_type": "execute_result",
          "data": {
            "text/plain": [
              "['c', 'ns', 'q', '', 'nt', '', 'l']"
            ]
          },
          "metadata": {},
          "execution_count": 37
        }
      ]
    },
    {
      "cell_type": "markdown",
      "source": [
        "Similarly, you can use a dash to specify a range: for example, \"`[a-z]`\" will match any lower-case letter, and \"`[1-3]`\" will match any of \"1\", \"2\", or \"3\". For instance, you may need to extract from a document specific numerical codes that consist of a capital letter followed by a digit. You could do this as follows:"
      ],
      "metadata": {
        "id": "soxQtviAC8om"
      }
    },
    {
      "cell_type": "code",
      "source": [
        "regex6 = re.compile('[A-Z][0-9]')\n",
        "regex6.findall('1043879, G2, H6')"
      ],
      "metadata": {
        "colab": {
          "base_uri": "https://localhost:8080/"
        },
        "id": "mvP4SLc0C_L7",
        "outputId": "72a13c36-0e62-4ba1-8c0b-7d350d0f1700"
      },
      "execution_count": 38,
      "outputs": [
        {
          "output_type": "execute_result",
          "data": {
            "text/plain": [
              "['G2', 'H6']"
            ]
          },
          "metadata": {},
          "execution_count": 38
        }
      ]
    },
    {
      "cell_type": "markdown",
      "source": [
        "If you would like to match a string with, say, three alphanumeric characters in a row, it is possible to use \"`\\w\\w\\w`\". Because this is such a common need, there is a specific syntax to match repetitions -- curly braces with a number:"
      ],
      "metadata": {
        "id": "9Cpme0RVC-4r"
      }
    },
    {
      "cell_type": "code",
      "source": [
        "regex7 = re.compile(r'\\w{3}')\n",
        "regex7.findall('The quick brown fox')"
      ],
      "metadata": {
        "colab": {
          "base_uri": "https://localhost:8080/"
        },
        "id": "zLSTMJQkDKp8",
        "outputId": "56623de8-63bb-4946-c04d-11e65629c292"
      },
      "execution_count": 39,
      "outputs": [
        {
          "output_type": "execute_result",
          "data": {
            "text/plain": [
              "['The', 'qui', 'bro', 'fox']"
            ]
          },
          "metadata": {},
          "execution_count": 39
        }
      ]
    },
    {
      "cell_type": "markdown",
      "source": [
        "There are also markers available to match any number of repetitions. For example, the \"`+`\" character will match one or more repetitions of what precedes it:"
      ],
      "metadata": {
        "id": "cI4xEm4WDN_J"
      }
    },
    {
      "cell_type": "code",
      "source": [
        "regex8 = re.compile(r'\\w+')\n",
        "regex8.findall('The quick brown fox')"
      ],
      "metadata": {
        "colab": {
          "base_uri": "https://localhost:8080/"
        },
        "id": "e8VzPgUBDQx_",
        "outputId": "c80a3c10-1738-4725-8bb0-9caaf70f5830"
      },
      "execution_count": 40,
      "outputs": [
        {
          "output_type": "execute_result",
          "data": {
            "text/plain": [
              "['The', 'quick', 'brown', 'fox']"
            ]
          },
          "metadata": {},
          "execution_count": 40
        }
      ]
    },
    {
      "cell_type": "markdown",
      "source": [
        "The following is a table of the repetition markers available for use in regular expressions:\n",
        "\n",
        "Character\tDescription\tExample\n",
        "\n",
        "+ `?`\tMatch zero or one repetitions of preceding. For example, \"`ab?`\" matches \"a\" or \"ab\"\n",
        "\n",
        "+ `*`\tMatch zero or more repetitions of preceding. For example, \"`ab*`\" matches \"a\", \"ab\", \"abb\", \"abbb\"...\n",
        "\n",
        "+ `+`\tMatch one or more repetitions of preceding. For example,\t\"`ab+`\" matches \"ab\", \"abb\", \"abbb\"... but not \"a\"\n",
        "\n",
        "\n",
        "+ `{n}`\tMatch n repetitions of preeeding. For example, \"`ab{2}`\" matches \"abb\"\n",
        "\n",
        "+ `{m,n}`\tMatch between m and n repetitions of preceding. For example, \"`ab{2,3}`\" matches \"abb\" or \"abbb\"\n",
        "\n",
        "With these basics in mind, let's return to our email address matcher.\n",
        "\n",
        "```\n",
        "regex_email = re.compile(r'\\w+@\\w+\\.[a-z]{3}')\n",
        "```\n",
        "\n",
        "We can now understand what this means: we want one or more alphanumeric character (\"`\\w+`\") followed by the at sign (\"`@`\"), followed by one or more alphanumeric character (\"`\\w+`\"), followed by a period (\"`\\.`\" -- note the need for a backslash escape), followed by exactly three lower-case letters."
      ],
      "metadata": {
        "id": "O3Xh0xIWDTka"
      }
    },
    {
      "cell_type": "markdown",
      "source": [
        "## Parentheses indicate groups to extract\n",
        "\n",
        "For compound regular expressions like our email matcher, we often want to extract their components rather than the full match. This can be done using parentheses to group the results:"
      ],
      "metadata": {
        "id": "fcKPXQFxD6ON"
      }
    },
    {
      "cell_type": "code",
      "source": [
        "regex_email2 = re.compile(r'([\\w.]+)@(\\w+)\\.([a-z]{3})')\n",
        "regex_email2.findall(str5)"
      ],
      "metadata": {
        "colab": {
          "base_uri": "https://localhost:8080/"
        },
        "id": "73vKkEE2Dqab",
        "outputId": "f5e1bcc6-4b2e-4c62-fa70-523fb5c1315d"
      },
      "execution_count": 42,
      "outputs": [
        {
          "output_type": "execute_result",
          "data": {
            "text/plain": [
              "[('rep', 'python', 'org'), ('rep', 'google', 'com')]"
            ]
          },
          "metadata": {},
          "execution_count": 42
        }
      ]
    },
    {
      "cell_type": "markdown",
      "source": [
        "As we see, this grouping actually extracts a list of the sub-components of the email address."
      ],
      "metadata": {
        "id": "CvWG_R9WDoGu"
      }
    },
    {
      "cell_type": "markdown",
      "source": [
        "# Further resources on regular expressions\n",
        "\n",
        "This section is to give you an idea of the types of problems that might be addressed using regular expressions, as well as a basic idea of how to use them in Python. I'll suggest some references for learning below:\n",
        "\n",
        "1. [Python's re package Documentation](https://docs.python.org/3/library/re.html): I find that I promptly forget how to use regular expressions just about every time I use them. Now that I have the basics down, I have found this page to be an incredibly valuable resource to recall what each specific character or sequence means within a regular expression.\n",
        "\n",
        "2. [Python's official regular expression HOWTO](https://docs.python.org/3/howto/regex.html): A more narrative approach to regular expressions in Python.\n",
        "\n",
        "3. [Mastering Regular Expressions (OReilly, 2006)](https://www.oreilly.com/library/view/mastering-regular-expressions/0596528124/) is a 500+ page book on the subject. If you want a really complete treatment of this topic, this is the resource for you."
      ],
      "metadata": {
        "id": "EcoySzm3EVsq"
      }
    }
  ]
}
