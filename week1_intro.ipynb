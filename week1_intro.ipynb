{
  "nbformat": 4,
  "nbformat_minor": 0,
  "metadata": {
    "colab": {
      "provenance": [],
      "authorship_tag": "ABX9TyMQUCL0eRrBa2exHr5v+mSt",
      "include_colab_link": true
    },
    "kernelspec": {
      "name": "python3",
      "display_name": "Python 3"
    },
    "language_info": {
      "name": "python"
    }
  },
  "cells": [
    {
      "cell_type": "markdown",
      "metadata": {
        "id": "view-in-github",
        "colab_type": "text"
      },
      "source": [
        "<a href=\"https://colab.research.google.com/github/dss5202-2410/week1_intro/blob/main/week1_intro.ipynb\" target=\"_parent\"><img src=\"https://colab.research.google.com/assets/colab-badge.svg\" alt=\"Open In Colab\"/></a>"
      ]
    },
    {
      "cell_type": "markdown",
      "source": [
        "## Using GitHub with Google Colab\n",
        "\n",
        "[Google Colab](https://colab.research.google.com/) is a convenient interactive\n",
        "environment hosted by Google. It is a great platform used by data scientist and machine learning programmers because it allows us write and execute Python in the browser.\n",
        "\n",
        "To begin, go to the main Colab page and sign in using your google account. Once you are signed in, you will get a pop-up box that looks like this:\n",
        "\n",
        "<img src=\"https://bebi103a.github.io/_images/colab_splash.png\" width=\"500\">\n",
        "\n",
        "You can create a new notebook by clicking on NEW NOTEBOOK.\n",
        "\n"
      ],
      "metadata": {
        "id": "q_pIfav21Ypl"
      }
    }
  ]
}