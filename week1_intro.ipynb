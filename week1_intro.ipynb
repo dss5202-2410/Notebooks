{
  "nbformat": 4,
  "nbformat_minor": 0,
  "metadata": {
    "colab": {
      "provenance": [],
      "authorship_tag": "ABX9TyMANyPE8ENwZXZz0cdpXHZl",
      "include_colab_link": true
    },
    "kernelspec": {
      "name": "python3",
      "display_name": "Python 3"
    },
    "language_info": {
      "name": "python"
    }
  },
  "cells": [
    {
      "cell_type": "markdown",
      "metadata": {
        "id": "view-in-github",
        "colab_type": "text"
      },
      "source": [
        "<a href=\"https://colab.research.google.com/github/dss5202-2410/week1_intro/blob/main/week1_intro.ipynb\" target=\"_parent\"><img src=\"https://colab.research.google.com/assets/colab-badge.svg\" alt=\"Open In Colab\"/></a>"
      ]
    },
    {
      "cell_type": "markdown",
      "source": [
        "# Using GitHub with Google Colab\n",
        "\n",
        "[Google Colab](https://colab.research.google.com/) is a convenient interactive\n",
        "environment hosted by Google. It is a great platform used by data scientist and machine learning programmers because it allows us write and execute Python in the browser. Colab notebooks are stored in Google Drive, or can be loaded from GitHub.\n",
        "\n",
        "To begin, go to the main Colab page and sign in using your Google account. Once you are signed in, you will get a pop-up box that looks like this:\n",
        "\n",
        "<img src=\"https://raw.githubusercontent.com/dss5202-2410/week1_intro/main/figures/colab1.PNG?token=GHSAT0AAAAAACPHJVLPYCOOD74E6EZTRS5MZP2LDAA\" width=\"500\">\n",
        "\n",
        "You can create a new notebook by clicking on NEW NOTEBOOK.\n",
        "\n",
        "## The User Interface\n",
        "Bdfore we get into coding, let's familiarize ourselves with the user interface (UI) of Google Colab.\n",
        "\n",
        "**What the different buttons mean:**\n",
        "\n",
        "<img src=\"https://raw.githubusercontent.com/dss5202-2410/week1_intro/main/figures/colab2.PNG?token=GHSAT0AAAAAACPHJVLPQBGEPNZLQEBJHN4QZP2LKDA\" width=\"500\">\n",
        "\n",
        "1. **Files**: Here you can upload data sets and other files (figures, etc.) from both your computer and Google Drive.\n",
        "\n",
        "2. **Code Snippets**: Here you will be able to find pre-written snippet of code for different functionalities, such as adding new libraries.\n",
        "\n",
        "3. **Table of Contents**: Here you will be able to organize sections inside of your notebook.\n",
        "\n",
        "4. **Variables**: Here you can have access to the variables currently created in the notebook.\n",
        "\n"
      ],
      "metadata": {
        "id": "q_pIfav21Ypl"
      }
    }
  ]
}