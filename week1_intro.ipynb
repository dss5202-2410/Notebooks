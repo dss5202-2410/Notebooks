{
  "nbformat": 4,
  "nbformat_minor": 0,
  "metadata": {
    "colab": {
      "provenance": [],
      "authorship_tag": "ABX9TyO3G8o9WmVaf+f5AcvT0Xtd",
      "include_colab_link": true
    },
    "kernelspec": {
      "name": "python3",
      "display_name": "Python 3"
    },
    "language_info": {
      "name": "python"
    }
  },
  "cells": [
    {
      "cell_type": "markdown",
      "metadata": {
        "id": "view-in-github",
        "colab_type": "text"
      },
      "source": [
        "<a href=\"https://colab.research.google.com/github/dss5202-2410/week1_intro/blob/main/week1_intro.ipynb\" target=\"_parent\"><img src=\"https://colab.research.google.com/assets/colab-badge.svg\" alt=\"Open In Colab\"/></a>"
      ]
    },
    {
      "cell_type": "markdown",
      "source": [
        "## Using GitHub with Google Colab\n",
        "\n",
        "[Google Colab](https://colab.research.google.com/) is a convenient interactive environment to allow us write and execute Python in the browser."
      ],
      "metadata": {
        "id": "q_pIfav21Ypl"
      }
    }
  ]
}