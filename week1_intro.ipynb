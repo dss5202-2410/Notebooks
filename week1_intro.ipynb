{
  "nbformat": 4,
  "nbformat_minor": 0,
  "metadata": {
    "colab": {
      "provenance": [],
      "authorship_tag": "ABX9TyMnOp0TsVGu43vbSe+zozfb",
      "include_colab_link": true
    },
    "kernelspec": {
      "name": "python3",
      "display_name": "Python 3"
    },
    "language_info": {
      "name": "python"
    }
  },
  "cells": [
    {
      "cell_type": "markdown",
      "metadata": {
        "id": "view-in-github",
        "colab_type": "text"
      },
      "source": [
        "<a href=\"https://colab.research.google.com/github/dss5202-2410/week1_intro/blob/main/week1_intro.ipynb\" target=\"_parent\"><img src=\"https://colab.research.google.com/assets/colab-badge.svg\" alt=\"Open In Colab\"/></a>"
      ]
    },
    {
      "cell_type": "markdown",
      "source": [
        "# Using GitHub with Google Colab\n",
        "\n",
        "[Google Colab](https://colab.research.google.com/) is a convenient interactive\n",
        "environment hosted by Google. It is based on Jupyter but does not require installation of Jupyter, or even Python on your machine! You just need Google account to use the service.\n",
        "\n",
        "Colab is a great platform used by data scientist and machine learning programmers. The notebooks are stored in Google Drive, or can be loaded from GitHub.\n",
        "\n",
        "To begin, go to the main Colab page and sign in using your Google account. Once you are signed in, you will get a pop-up box that looks like this:\n",
        "\n",
        "<img src=\"https://raw.githubusercontent.com/dss5202-2410/week1_intro/main/figures/colab1.PNG\" width=\"500\">\n",
        "\n",
        "You can create a new notebook by clicking on NEW NOTEBOOK.\n",
        "\n",
        "## The User Interface\n",
        "Bdfore we get into coding, let's familiarize ourselves with the user interface (UI) of Google Colab.\n",
        "\n",
        "**What the different buttons mean:**\n",
        "\n",
        "<img src=\"https://raw.githubusercontent.com/dss5202-2410/week1_intro/main/figures/colab2.PNG\" width=\"500\">\n",
        "\n",
        "1. **Files**: Here you can upload data sets and other files (figures, etc.) from both your computer and Google Drive.\n",
        "\n",
        "2. **Code Snippets**: Here you will be able to find pre-written snippet of code for different functionalities, such as adding new libraries.\n",
        "\n",
        "3. **Table of Contents**: Here you will be able to organize sections inside of your notebook.\n",
        "\n",
        "4. **Variables**: Here you can have access to the variables currently created in the notebook.\n",
        "\n",
        "<img src=\"https://raw.githubusercontent.com/dss5202-2410/week1_intro/main/figures/colab3.PNG\" width=\"500\">\n",
        "\n",
        "5. **File Name**: The name of your file. You can click on it to change the name.\n",
        "\n",
        "6. **Menu Bar**: This can be used to manipulate the entire file or add new files. Look over the different tabs and familiarize yourself with the different options.\n",
        "\n",
        "7. **Insert Code Cell**: This button will add text cell below the cell you currently select.\n",
        "\n",
        "8. **Insert Text Cell**: This button will add a text cell below the cell you currently select.\n",
        "\n",
        "9. **Cell and Output**: The cell is where you can write your code and add text depending on the cell type. Below the cell, you can see the output of your code, including any errors.\n",
        "\n",
        "10. **Clear Output**: This button will remove the output.\n",
        "\n",
        "<img src=\"https://raw.githubusercontent.com/dss5202-2410/week1_intro/main/figures/colab4.PNG\" width=\"500\">\n",
        "\n",
        "11. **RAM and Disk**: All the code you write will run on Google's computer, and you will only see the output. So even if you have a slow computer, running big chunks of code will not be an issue. Google only allots a certain amount of RAM and Disk space for each user, so be mindful of that as you work on larger projects.\n",
        "\n",
        "12. **Link to Cell**: This button will create a URL that will link to the cell you have selected.\n",
        "\n",
        "13. **Comment**: This button will allow you to create a comment on the selected cell.\n",
        "\n",
        "14. **Settings**: This will allow you to change the Theme of the notebook, change the font size, font type, indentation, width, etc.\n",
        "\n",
        "15. **Mirror Cell in Tab**.\n",
        "\n",
        "16. **Delete Cell**: This will delete the selected cell.\n",
        "\n",
        "17. **More options**: Certain options to cut and copy a cell, as well as the option to add form and hide code."
      ],
      "metadata": {
        "id": "q_pIfav21Ypl"
      }
    },
    {
      "cell_type": "code",
      "source": [],
      "metadata": {
        "id": "is6lKed2E2aY"
      },
      "execution_count": null,
      "outputs": []
    }
  ]
}