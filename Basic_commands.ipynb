{
  "nbformat": 4,
  "nbformat_minor": 0,
  "metadata": {
    "colab": {
      "provenance": [],
      "authorship_tag": "ABX9TyO4zu0ViWu65I2KBCRzJOc1",
      "include_colab_link": true
    },
    "kernelspec": {
      "name": "python3",
      "display_name": "Python 3"
    },
    "language_info": {
      "name": "python"
    }
  },
  "cells": [
    {
      "cell_type": "markdown",
      "metadata": {
        "id": "view-in-github",
        "colab_type": "text"
      },
      "source": [
        "<a href=\"https://colab.research.google.com/github/dss5202-2410/Notebooks/blob/main/Basic_commands.ipynb\" target=\"_parent\"><img src=\"https://colab.research.google.com/assets/colab-badge.svg\" alt=\"Open In Colab\"/></a>"
      ]
    },
    {
      "cell_type": "markdown",
      "source": [
        "# Python review\n",
        "\n",
        "In this section, you will get a review or brief introduction to Python for this course. The purpose of it is **Not** to teach you all of Python, but rather to arm you with the knowledge required to succeed in this course.\n",
        "\n",
        "Because of this, we will only cover key concepts that are necessary for this course. For those of you who already know some Python, it should serve as a quick review. For those of you who know another language (e.g., `R`), it should serve as a brief introduction.\n",
        "\n",
        "## Variables"
      ],
      "metadata": {
        "id": "1nU8muPzUtyK"
      }
    }
  ]
}