{
  "nbformat": 4,
  "nbformat_minor": 0,
  "metadata": {
    "colab": {
      "provenance": [],
      "authorship_tag": "ABX9TyOT2fviosrUK8FNaJFV66ce",
      "include_colab_link": true
    },
    "kernelspec": {
      "name": "python3",
      "display_name": "Python 3"
    },
    "language_info": {
      "name": "python"
    }
  },
  "cells": [
    {
      "cell_type": "markdown",
      "metadata": {
        "id": "view-in-github",
        "colab_type": "text"
      },
      "source": [
        "<a href=\"https://colab.research.google.com/github/dss5202-2410/Notebooks/blob/main/Basic_commands.ipynb\" target=\"_parent\"><img src=\"https://colab.research.google.com/assets/colab-badge.svg\" alt=\"Open In Colab\"/></a>"
      ]
    },
    {
      "cell_type": "markdown",
      "source": [
        "# Python review\n",
        "\n",
        "In this section, you will get a review or brief introduction to Python for this course. The purpose of it is **NOT** to teach you all of Python, but rather to arm you with the knowledge required to succeed in this course.\n",
        "\n",
        "Because of this, we will only cover key concepts that are necessary for this course. For those of you who already know some Python, it should serve as a quick review. For those of you who know another language (e.g., `R`), it should serve as a brief introduction.\n",
        "\n",
        "## Variables\n",
        "To better understand **variables**, let's first look at a concept from Microsoft Excel that you are already familiar with. Each cell name refers to a specific place in the spreadsheet and each of these places can contain a value. The name of the cell, such as \"A12\", is similar to the name of a variable; what you put into it is called the value.\n",
        "\n",
        "In order to create a variable in Python, you must give it a name. It can have any name that has alphanumeric (`A-Z`, `a-z`, `0-9`) characters including underscore (`_`).  Notice the following restrictions though.\n",
        "\n",
        "+ The name cannot start with a number.\n",
        "\n",
        "+ The name is case sensitive. So `my_var` is not the same as `My_var`.\n",
        "\n",
        "\n",
        "Each variable has a **type**, such as integer, float, string, etc. We can change the type of variables using simple commands.\n",
        "\n",
        "**Try the following code.**"
      ],
      "metadata": {
        "id": "1nU8muPzUtyK"
      }
    },
    {
      "cell_type": "code",
      "source": [
        "a = 3\n",
        "print(type(a))"
      ],
      "metadata": {
        "colab": {
          "base_uri": "https://localhost:8080/"
        },
        "id": "d6sOoDeQW73q",
        "outputId": "46ed03b8-eb52-4231-946a-3f8d10daa76b"
      },
      "execution_count": 8,
      "outputs": [
        {
          "output_type": "stream",
          "name": "stdout",
          "text": [
            "<class 'int'>\n"
          ]
        }
      ]
    },
    {
      "cell_type": "code",
      "source": [
        "b = \"dss5202\"\n",
        "print(type(b))"
      ],
      "metadata": {
        "colab": {
          "base_uri": "https://localhost:8080/"
        },
        "id": "ofuZEvwEY4w6",
        "outputId": "0cdf75fd-0359-449d-b26a-9cd9ec2ffea3"
      },
      "execution_count": 9,
      "outputs": [
        {
          "output_type": "stream",
          "name": "stdout",
          "text": [
            "<class 'str'>\n"
          ]
        }
      ]
    },
    {
      "cell_type": "code",
      "source": [
        "c = \"123\"\n",
        "print(type(c))"
      ],
      "metadata": {
        "colab": {
          "base_uri": "https://localhost:8080/"
        },
        "id": "Q2fZFoMpY6Cq",
        "outputId": "0a9e38a1-2407-4456-9e04-5b4b18f351e1"
      },
      "execution_count": 10,
      "outputs": [
        {
          "output_type": "stream",
          "name": "stdout",
          "text": [
            "<class 'str'>\n"
          ]
        }
      ]
    },
    {
      "cell_type": "code",
      "source": [
        "c = int(c)   # Converting c into a numeric value\n",
        "print(type(c))"
      ],
      "metadata": {
        "colab": {
          "base_uri": "https://localhost:8080/"
        },
        "id": "TlggojPFY7LV",
        "outputId": "862ed405-8358-4964-be01-c9f724446a18"
      },
      "execution_count": 11,
      "outputs": [
        {
          "output_type": "stream",
          "name": "stdout",
          "text": [
            "<class 'int'>\n"
          ]
        }
      ]
    },
    {
      "cell_type": "markdown",
      "source": [
        "### Numeric Data Types\n",
        "\n",
        "There are two main types of numeric data in Python: Integers (`int`) and float-point values (`float`).\n",
        "\n",
        "+ An interger is a zero, a positive, or a negative whole number.\n",
        "\n",
        "+ Floating-point numbers are numbers that have fractional components after the decimal points (even if the fractional component is zero).\n",
        "\n",
        "As a good rule of thumb, if a value has a decimal point, it is a `float`. For example, the number 12 is an `int`, but `12.0` is a `float`.\n",
        "\n",
        "We can perform basic mathematical operations on numeric data.\n",
        "\n",
        "+ Such as addition (`+`), subtraction (`-`), multiplication (`*`), division (`/`), and exponentiation (`**`).\n",
        "\n",
        "+ Additionally, there are other operations like modulus (`%`), which gives us the remainder of a division between two integers.\n",
        "\n",
        "### Boolean Data Type\n",
        "\n",
        "**Boolean** (`bool`) is another data type that is very useful in programming. It is used to check the truth of an expression. Booleans return `True` or `False`. We can evaluate multiple Boolean expressions with operations like `and`, `or`, and `not`.\n",
        "\n",
        "**Try the code below.**"
      ],
      "metadata": {
        "id": "_ZGw2FF3XeYn"
      }
    },
    {
      "cell_type": "code",
      "source": [
        "True"
      ],
      "metadata": {
        "colab": {
          "base_uri": "https://localhost:8080/"
        },
        "id": "V4ESZLHAYk4h",
        "outputId": "217c6c5b-7240-4feb-dd1a-03d0294fa1fd"
      },
      "execution_count": 7,
      "outputs": [
        {
          "output_type": "execute_result",
          "data": {
            "text/plain": [
              "True"
            ]
          },
          "metadata": {},
          "execution_count": 7
        }
      ]
    },
    {
      "cell_type": "code",
      "source": [
        "True and True"
      ],
      "metadata": {
        "colab": {
          "base_uri": "https://localhost:8080/"
        },
        "id": "LKO50bzmYvGH",
        "outputId": "61c22fd2-2ca9-45ef-c7e5-e53f90330973"
      },
      "execution_count": 4,
      "outputs": [
        {
          "output_type": "execute_result",
          "data": {
            "text/plain": [
              "True"
            ]
          },
          "metadata": {},
          "execution_count": 4
        }
      ]
    },
    {
      "cell_type": "code",
      "source": [
        "False or True"
      ],
      "metadata": {
        "colab": {
          "base_uri": "https://localhost:8080/"
        },
        "id": "cNqJoiIqYysF",
        "outputId": "19c7104d-f84c-4662-bb31-9281aeefee6d"
      },
      "execution_count": 5,
      "outputs": [
        {
          "output_type": "execute_result",
          "data": {
            "text/plain": [
              "True"
            ]
          },
          "metadata": {},
          "execution_count": 5
        }
      ]
    },
    {
      "cell_type": "code",
      "source": [
        "\n",
        "not (False or True)"
      ],
      "metadata": {
        "colab": {
          "base_uri": "https://localhost:8080/"
        },
        "id": "mg8zcaHfY00s",
        "outputId": "126aa911-3d5d-464e-d823-e03c3984850b"
      },
      "execution_count": 6,
      "outputs": [
        {
          "output_type": "execute_result",
          "data": {
            "text/plain": [
              "False"
            ]
          },
          "metadata": {},
          "execution_count": 6
        }
      ]
    },
    {
      "cell_type": "markdown",
      "source": [
        "Booleans are often used with other operations such as equal (`==`), less than (`<`), etc. It is possible to combine these operators with logical operators (`and`, `or`, and `not`) to form complex logical questions.\n",
        "\n",
        "Below is a table of all logical and relational operators that can be used to create Boolean expressions.\n",
        "\n",
        "| **Name**                 | **Operator** | **Explanation**                                           |\n",
        "|--------------------------|--------------|-----------------------------------------------------------|\n",
        "| less than                | `<`          | Less than operator                                        |\n",
        "| Greater than             | `>`          | Greater than operator                                     |\n",
        "| Less than or equal to    | `<=`         | Less than or equal to operator                            |\n",
        "| Greater than or equal to | `>=`         | Greater than or equal to operator                         |\n",
        "| Equal                    | `==`         | Equality operator                                         |\n",
        "| Not equal                | `!=`         | Not equal operator                                        |\n",
        "| Logical and              | `and`        | Both operands True for the result to be True              |\n",
        "| Logical or               | `or`         | One of the operands is True for the result to be True     |\n",
        "| Logical not              | `not`        | Negates the value: False becomes True, True becomes False |\n",
        "\n",
        "\n",
        "**Try the following code.**"
      ],
      "metadata": {
        "id": "Pd-xKUFAZCOo"
      }
    },
    {
      "cell_type": "code",
      "source": [
        "print(13 == 50)"
      ],
      "metadata": {
        "colab": {
          "base_uri": "https://localhost:8080/"
        },
        "id": "sW3cNNbyatKQ",
        "outputId": "54c6e937-720f-4fc5-f694-40dc673bdb15"
      },
      "execution_count": 12,
      "outputs": [
        {
          "output_type": "stream",
          "name": "stdout",
          "text": [
            "False\n"
          ]
        }
      ]
    },
    {
      "cell_type": "code",
      "source": [
        "print(not(15 > 10))"
      ],
      "metadata": {
        "colab": {
          "base_uri": "https://localhost:8080/"
        },
        "id": "6HVzhjuoavA_",
        "outputId": "bd178d96-457d-47b5-e36e-e16defb484c2"
      },
      "execution_count": 13,
      "outputs": [
        {
          "output_type": "stream",
          "name": "stdout",
          "text": [
            "False\n"
          ]
        }
      ]
    },
    {
      "cell_type": "code",
      "source": [
        "print((5 >= 1) and (5 < 15))"
      ],
      "metadata": {
        "colab": {
          "base_uri": "https://localhost:8080/"
        },
        "id": "G75GFyodaxMc",
        "outputId": "b5551116-9e92-48d6-9831-c5ca29d79800"
      },
      "execution_count": 15,
      "outputs": [
        {
          "output_type": "stream",
          "name": "stdout",
          "text": [
            "True\n"
          ]
        }
      ]
    }
  ]
}