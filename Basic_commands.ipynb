{
  "nbformat": 4,
  "nbformat_minor": 0,
  "metadata": {
    "colab": {
      "provenance": [],
      "authorship_tag": "ABX9TyOe3gUWCJecDymN6XDVpcJB",
      "include_colab_link": true
    },
    "kernelspec": {
      "name": "python3",
      "display_name": "Python 3"
    },
    "language_info": {
      "name": "python"
    }
  },
  "cells": [
    {
      "cell_type": "markdown",
      "metadata": {
        "id": "view-in-github",
        "colab_type": "text"
      },
      "source": [
        "<a href=\"https://colab.research.google.com/github/dss5202-2410/Notebooks/blob/main/Basic_commands.ipynb\" target=\"_parent\"><img src=\"https://colab.research.google.com/assets/colab-badge.svg\" alt=\"Open In Colab\"/></a>"
      ]
    },
    {
      "cell_type": "markdown",
      "source": [
        "# Python review\n",
        "\n",
        "In this section, you will get a review or brief introduction to Python for this course. The purpose of it is **NOT** to teach you all of Python, but rather to arm you with the knowledge required to succeed in this course.\n",
        "\n",
        "Because of this, we will only cover key concepts that are necessary for this course. For those of you who already know some Python, it should serve as a quick review. For those of you who know another language (e.g., `R`), it should serve as a brief introduction.\n",
        "\n",
        "## Variables\n",
        "To better understand **variables**, let's first look at a concept from Microsoft Excel that you are already familiar with. Each cell name refers to a specific place in the spreadsheet and each of these places can contain a value. The name of the cell, such as \"A12\", is similar to the name of a variable; what you put into it is called the value.\n",
        "\n",
        "In order to create a variable in Python, you must give it a name. It can have any name that has alphanumeric (`A-Z`, `a-z`, `0-9`) characters including underscore (`_`).  Notice the following restrictions though.\n",
        "\n",
        "+ The name cannot start with a number.\n",
        "\n",
        "+ The name is case sensitive. So `my_var` is not the same as `My_var`.\n",
        "\n",
        "\n",
        "Each variable has a **type**, such as integer, float, string, etc. We can change the type of variables using simple commands.\n",
        "\n",
        "**Try the following code.**"
      ],
      "metadata": {
        "id": "1nU8muPzUtyK"
      }
    },
    {
      "cell_type": "code",
      "source": [
        "a = 3\n",
        "print(type(a))"
      ],
      "metadata": {
        "colab": {
          "base_uri": "https://localhost:8080/"
        },
        "id": "d6sOoDeQW73q",
        "outputId": "46ed03b8-eb52-4231-946a-3f8d10daa76b"
      },
      "execution_count": null,
      "outputs": [
        {
          "output_type": "stream",
          "name": "stdout",
          "text": [
            "<class 'int'>\n"
          ]
        }
      ]
    },
    {
      "cell_type": "code",
      "source": [
        "b = \"dss5202\"\n",
        "print(type(b))"
      ],
      "metadata": {
        "colab": {
          "base_uri": "https://localhost:8080/"
        },
        "id": "ofuZEvwEY4w6",
        "outputId": "0cdf75fd-0359-449d-b26a-9cd9ec2ffea3"
      },
      "execution_count": null,
      "outputs": [
        {
          "output_type": "stream",
          "name": "stdout",
          "text": [
            "<class 'str'>\n"
          ]
        }
      ]
    },
    {
      "cell_type": "code",
      "source": [
        "c = \"123\"\n",
        "print(type(c))"
      ],
      "metadata": {
        "colab": {
          "base_uri": "https://localhost:8080/"
        },
        "id": "Q2fZFoMpY6Cq",
        "outputId": "0a9e38a1-2407-4456-9e04-5b4b18f351e1"
      },
      "execution_count": null,
      "outputs": [
        {
          "output_type": "stream",
          "name": "stdout",
          "text": [
            "<class 'str'>\n"
          ]
        }
      ]
    },
    {
      "cell_type": "code",
      "source": [
        "c = int(c)   # Converting c into a numeric value\n",
        "print(type(c))"
      ],
      "metadata": {
        "colab": {
          "base_uri": "https://localhost:8080/"
        },
        "id": "TlggojPFY7LV",
        "outputId": "862ed405-8358-4964-be01-c9f724446a18"
      },
      "execution_count": null,
      "outputs": [
        {
          "output_type": "stream",
          "name": "stdout",
          "text": [
            "<class 'int'>\n"
          ]
        }
      ]
    },
    {
      "cell_type": "markdown",
      "source": [
        "### Numeric Data Types\n",
        "\n",
        "There are two main types of numeric data in Python: Integers (`int`) and float-point values (`float`).\n",
        "\n",
        "+ An interger is a zero, a positive, or a negative whole number.\n",
        "\n",
        "+ Floating-point numbers are numbers that have fractional components after the decimal points (even if the fractional component is zero).\n",
        "\n",
        "As a good rule of thumb, if a value has a decimal point, it is a `float`. For example, the number 12 is an `int`, but `12.0` is a `float`.\n",
        "\n",
        "We can perform basic mathematical operations on numeric data.\n",
        "\n",
        "+ Such as addition (`+`), subtraction (`-`), multiplication (`*`), division (`/`), and exponentiation (`**`).\n",
        "\n",
        "+ Additionally, there are other operations like modulus (`%`), which gives us the remainder of a division between two integers.\n",
        "\n",
        "### Boolean Data Type\n",
        "\n",
        "**Boolean** (`bool`) is another data type that is very useful in programming. It is used to check the truth of an expression. Booleans return `True` or `False`. We can evaluate multiple Boolean expressions with operations like `and`, `or`, and `not`.\n",
        "\n",
        "**Try the code below.**"
      ],
      "metadata": {
        "id": "_ZGw2FF3XeYn"
      }
    },
    {
      "cell_type": "code",
      "source": [
        "True"
      ],
      "metadata": {
        "colab": {
          "base_uri": "https://localhost:8080/"
        },
        "id": "V4ESZLHAYk4h",
        "outputId": "217c6c5b-7240-4feb-dd1a-03d0294fa1fd"
      },
      "execution_count": null,
      "outputs": [
        {
          "output_type": "execute_result",
          "data": {
            "text/plain": [
              "True"
            ]
          },
          "metadata": {},
          "execution_count": 7
        }
      ]
    },
    {
      "cell_type": "code",
      "source": [
        "True and True"
      ],
      "metadata": {
        "colab": {
          "base_uri": "https://localhost:8080/"
        },
        "id": "LKO50bzmYvGH",
        "outputId": "61c22fd2-2ca9-45ef-c7e5-e53f90330973"
      },
      "execution_count": null,
      "outputs": [
        {
          "output_type": "execute_result",
          "data": {
            "text/plain": [
              "True"
            ]
          },
          "metadata": {},
          "execution_count": 4
        }
      ]
    },
    {
      "cell_type": "code",
      "source": [
        "False or True"
      ],
      "metadata": {
        "colab": {
          "base_uri": "https://localhost:8080/"
        },
        "id": "cNqJoiIqYysF",
        "outputId": "19c7104d-f84c-4662-bb31-9281aeefee6d"
      },
      "execution_count": null,
      "outputs": [
        {
          "output_type": "execute_result",
          "data": {
            "text/plain": [
              "True"
            ]
          },
          "metadata": {},
          "execution_count": 5
        }
      ]
    },
    {
      "cell_type": "code",
      "source": [
        "\n",
        "not (False or True)"
      ],
      "metadata": {
        "colab": {
          "base_uri": "https://localhost:8080/"
        },
        "id": "mg8zcaHfY00s",
        "outputId": "126aa911-3d5d-464e-d823-e03c3984850b"
      },
      "execution_count": null,
      "outputs": [
        {
          "output_type": "execute_result",
          "data": {
            "text/plain": [
              "False"
            ]
          },
          "metadata": {},
          "execution_count": 6
        }
      ]
    },
    {
      "cell_type": "markdown",
      "source": [
        "Booleans are often used with other operations such as equal (`==`), less than (`<`), etc. It is possible to combine these operators with logical operators (`and`, `or`, and `not`) to form complex logical questions.\n",
        "\n",
        "Below is a table of all logical and relational operators that can be used to create Boolean expressions.\n",
        "\n",
        "| **Name** \t| **Operator** \t| **Explanation** \t|\n",
        "|---\t|---\t|---\t|\n",
        "| less than \t| `<` \t| Less than operator \t|\n",
        "| Greater than \t| `>` \t| Greater than operator \t|\n",
        "| Less than or equal to \t| `<=` \t| Less than or equal to operator \t|\n",
        "| Greater than or equal to \t| `>=` \t| Greater than or equal to operator \t|\n",
        "| Equal \t| `==` \t| Equality operator \t|\n",
        "| Not equal \t| `!=` \t| Not equal operator \t|\n",
        "| Logical and \t| `and` \t| Both operands True for the result to be True \t|\n",
        "| Logical or \t| `or` \t| One of the operands is True for the result to be True \t|\n",
        "| Logical not \t| `not` \t| Negates the value: False becomes True, True becomes False \t|\n",
        "\n",
        "\n",
        "**Try the following code.**"
      ],
      "metadata": {
        "id": "Pd-xKUFAZCOo"
      }
    },
    {
      "cell_type": "code",
      "source": [
        "print(13 == 50)"
      ],
      "metadata": {
        "colab": {
          "base_uri": "https://localhost:8080/"
        },
        "id": "sW3cNNbyatKQ",
        "outputId": "54c6e937-720f-4fc5-f694-40dc673bdb15"
      },
      "execution_count": null,
      "outputs": [
        {
          "output_type": "stream",
          "name": "stdout",
          "text": [
            "False\n"
          ]
        }
      ]
    },
    {
      "cell_type": "code",
      "source": [
        "print(not(15 > 10))"
      ],
      "metadata": {
        "colab": {
          "base_uri": "https://localhost:8080/"
        },
        "id": "6HVzhjuoavA_",
        "outputId": "bd178d96-457d-47b5-e36e-e16defb484c2"
      },
      "execution_count": null,
      "outputs": [
        {
          "output_type": "stream",
          "name": "stdout",
          "text": [
            "False\n"
          ]
        }
      ]
    },
    {
      "cell_type": "code",
      "source": [
        "print((5 >= 1) and (5 < 15))"
      ],
      "metadata": {
        "colab": {
          "base_uri": "https://localhost:8080/"
        },
        "id": "G75GFyodaxMc",
        "outputId": "b5551116-9e92-48d6-9831-c5ca29d79800"
      },
      "execution_count": null,
      "outputs": [
        {
          "output_type": "stream",
          "name": "stdout",
          "text": [
            "True\n"
          ]
        }
      ]
    },
    {
      "cell_type": "markdown",
      "source": [
        "## Strings\n",
        "\n",
        "A **string** is a sequential collection of zero or more **characters**. It can be represented with single or double-quotes.\n",
        "\n",
        "**Try the following code.**"
      ],
      "metadata": {
        "id": "FkY3M3JrbBhl"
      }
    },
    {
      "cell_type": "code",
      "source": [
        "school = \"NUS\"\n",
        "print(school)"
      ],
      "metadata": {
        "id": "ZMuEM4-5bYVr"
      },
      "execution_count": null,
      "outputs": []
    },
    {
      "cell_type": "markdown",
      "source": [
        "You can access particular character or segment of a string by the following **sequential indexing operations**.\n",
        "\n",
        "\n",
        "| **Name** \t| **Operator** \t| **Explanation** \t|\n",
        "|---\t|---\t|---\t|\n",
        "| Indexing \t| `[]` \t| Access an element of a sequence by its index \t|\n",
        "| Concatenation \t| `+` \t| Combine sequences of strings \t|\n",
        "| Repetition \t| `*` \t| Concatenate a repeated sequence a number of times \t|\n",
        "| Membership \t| `in` \t| Ask whether a pattern is in a sequence \t|\n",
        "| Length \t| `len` \t| Ask the number of items in a sequence \t|\n",
        "| Slicing \t| `[:]` \t| Extract part of a sequence \t|\n",
        "\n",
        "\n",
        "Aside from the sequential operations, strings also have their own set of methods. Below are some typical **string manipulation methods** used in this course.\n",
        "\n",
        "\n",
        "| **Method** \t| **Explanation** \t|\n",
        "|---\t|---\t|\n",
        "| `.lower()` \t| Return a string with all characters in lower case \t|\n",
        "| `.upper()` \t| Return a string with all characters in upper case \t|\n",
        "| `.title()` \t| Return a string where the first letter of each word is upper cased \t|\n",
        "| `.startswith()` \t| Return True of False depending on whether the string starts with the specified characters \t|\n",
        "| `.endswith()` \t| Return True of False depending on whether the string ends with the specified characters \t|\n",
        "| `.split()` \t| Split the string at specified characters. The split string will be returned in a list \t|\n",
        "\n",
        "\n",
        "**In the code below, you can play with some examples of string operations.**"
      ],
      "metadata": {
        "id": "kvSlvWRPbhmR"
      }
    },
    {
      "cell_type": "code",
      "source": [
        "address1 = \"Block S16, 6 Science Drive 2\"\n",
        "address2 = \"Singapore, 117546\"\n",
        "print(address1)"
      ],
      "metadata": {
        "colab": {
          "base_uri": "https://localhost:8080/"
        },
        "id": "jhRiMMd4dNf-",
        "outputId": "ae9bc780-da90-4ec9-c422-88aebb02e14e"
      },
      "execution_count": null,
      "outputs": [
        {
          "output_type": "stream",
          "name": "stdout",
          "text": [
            "Block S16, 6 Science Drive 2\n"
          ]
        }
      ]
    },
    {
      "cell_type": "code",
      "source": [
        "print(address1 + \", \" + address2)"
      ],
      "metadata": {
        "colab": {
          "base_uri": "https://localhost:8080/"
        },
        "id": "5nCeghSsdhv7",
        "outputId": "dae73dde-fdfa-445e-8ba9-052be9f98189"
      },
      "execution_count": null,
      "outputs": [
        {
          "output_type": "stream",
          "name": "stdout",
          "text": [
            "Block S16, 6 Science Drive 2, Singapore, 117546\n"
          ]
        }
      ]
    },
    {
      "cell_type": "code",
      "source": [
        "print(len(address1))"
      ],
      "metadata": {
        "colab": {
          "base_uri": "https://localhost:8080/"
        },
        "id": "cJKntxSLdo1i",
        "outputId": "d7d39523-6190-4c36-a6f5-0fc246d5d31b"
      },
      "execution_count": null,
      "outputs": [
        {
          "output_type": "stream",
          "name": "stdout",
          "text": [
            "28\n"
          ]
        }
      ]
    },
    {
      "cell_type": "code",
      "source": [
        "print(address1[0:5])"
      ],
      "metadata": {
        "colab": {
          "base_uri": "https://localhost:8080/"
        },
        "id": "Y_67TqWvdwd0",
        "outputId": "db95a5b9-b886-4537-c93c-042395e828dc"
      },
      "execution_count": null,
      "outputs": [
        {
          "output_type": "stream",
          "name": "stdout",
          "text": [
            "Block\n"
          ]
        }
      ]
    },
    {
      "cell_type": "code",
      "source": [
        "print(address1.lower())"
      ],
      "metadata": {
        "colab": {
          "base_uri": "https://localhost:8080/"
        },
        "id": "LT6tvKFjd8mb",
        "outputId": "ee79831b-d73e-4a8d-8e71-938d2e6d4d25"
      },
      "execution_count": null,
      "outputs": [
        {
          "output_type": "stream",
          "name": "stdout",
          "text": [
            "block s16, 6 science drive 2\n"
          ]
        }
      ]
    },
    {
      "cell_type": "code",
      "source": [
        "print(address1.lower().title())"
      ],
      "metadata": {
        "colab": {
          "base_uri": "https://localhost:8080/"
        },
        "id": "uWF4U4QLeBMl",
        "outputId": "57388444-3274-4bd8-ceeb-cba146bed9a2"
      },
      "execution_count": null,
      "outputs": [
        {
          "output_type": "stream",
          "name": "stdout",
          "text": [
            "Block S16, 6 Science Drive 2\n"
          ]
        }
      ]
    },
    {
      "cell_type": "code",
      "source": [
        "list_of_string = address1.split(\" \")\n",
        "print(list_of_string)"
      ],
      "metadata": {
        "colab": {
          "base_uri": "https://localhost:8080/"
        },
        "id": "7OysyOLeeHhm",
        "outputId": "3b6a5a41-11d3-40b4-d75c-c256d69fb4f4"
      },
      "execution_count": null,
      "outputs": [
        {
          "output_type": "stream",
          "name": "stdout",
          "text": [
            "['Block', 'S16,', '6', 'Science', 'Drive', '2']\n"
          ]
        }
      ]
    },
    {
      "cell_type": "markdown",
      "source": [
        "## Conditional statements\n",
        "\n",
        "**Conditional statements** (also known as `if` statements) are used to ask a question, and depending on the result, perform certain actions. The questions follow this format:\n",
        "\n",
        "<img src=\"https://raw.githubusercontent.com/dss5202-2410/week1_intro/main/figures/if-else.png\" width=\"700\">\n",
        "\n"
      ],
      "metadata": {
        "id": "i1xibgrmeZwT"
      }
    },
    {
      "cell_type": "code",
      "source": [
        "number = 5\n",
        "if number < 0:\n",
        "  print(\"This will only print if the number is negative.\")"
      ],
      "metadata": {
        "id": "hu52JIpoiGGU"
      },
      "execution_count": 30,
      "outputs": []
    },
    {
      "cell_type": "markdown",
      "source": [
        "If a statement is met, then the action will be perform. If the condition is not met, then all of the code indented inside of the if statement will be ignored.\n",
        "\n",
        "If statements can have two additional clauses, `elif` and `else`. The keyword `elif` is a shorter way of saying else if. It is used after the if statement and provides another condition to be checked if the first one is not true. It is possible to have multiple `elif` in one if statement.\n",
        "\n",
        "When the `else` clause is used, it is always the last clause in a conditional statement.\n",
        "\n",
        "Once a condition has been met, all subsequent clauses will be ignored."
      ],
      "metadata": {
        "id": "2AD7Yk26iW0e"
      }
    },
    {
      "cell_type": "code",
      "source": [
        "number = 5\n",
        "if number < 0:\n",
        "  print(\"This will print if the number is negative.\")\n",
        "\n",
        "elif number < 10:\n",
        "  print(\"The number is non-negative, and it is smaller than 10.\")\n",
        "\n",
        "else:\n",
        "  print(\"The number is at least 10.\")"
      ],
      "metadata": {
        "colab": {
          "base_uri": "https://localhost:8080/"
        },
        "id": "aXlosk11i8iP",
        "outputId": "c2e27e35-8712-4325-8b25-d9b29c01132e"
      },
      "execution_count": 33,
      "outputs": [
        {
          "output_type": "stream",
          "name": "stdout",
          "text": [
            "The number is non-negative, and it is smaller than 10.\n"
          ]
        }
      ]
    },
    {
      "cell_type": "markdown",
      "source": [
        "## Lists\n",
        "\n",
        "**Lists** are a sequential collection of data. They are created by a pair of square brackets (`[]`). Each element is separated by commas.\n",
        "\n",
        "A list can contain objects of any data type."
      ],
      "metadata": {
        "id": "Gc95udttjkMm"
      }
    },
    {
      "cell_type": "code",
      "source": [
        "list1 = [3, 4, 6, 7, 9, 0, 113]\n",
        "list2 = [-5, \"list\", 113, \"this\", 4, \"is\"]\n",
        "list3 = []"
      ],
      "metadata": {
        "id": "To7bJiLLj9eC"
      },
      "execution_count": 45,
      "outputs": []
    },
    {
      "cell_type": "markdown",
      "source": [
        "Data in a list is **ordered**. We can use extract components in a list with a pair of `[]` square brackets and the location index.\n",
        "\n",
        "Indexes in Python start at zero."
      ],
      "metadata": {
        "id": "7d8L7QtfkI2F"
      }
    },
    {
      "cell_type": "code",
      "source": [
        "list1[0]"
      ],
      "metadata": {
        "colab": {
          "base_uri": "https://localhost:8080/"
        },
        "id": "U6wbJ8uHkWYT",
        "outputId": "007182a5-23da-4cc0-811c-55f3bea722b1"
      },
      "execution_count": 36,
      "outputs": [
        {
          "output_type": "execute_result",
          "data": {
            "text/plain": [
              "3"
            ]
          },
          "metadata": {},
          "execution_count": 36
        }
      ]
    },
    {
      "cell_type": "markdown",
      "source": [
        "We can also use negative indexes to refer to values starting from the end of the list."
      ],
      "metadata": {
        "id": "tWEHtQwKlAxn"
      }
    },
    {
      "cell_type": "code",
      "source": [
        "list1[-3]"
      ],
      "metadata": {
        "colab": {
          "base_uri": "https://localhost:8080/"
        },
        "id": "HlRyfBQik4vg",
        "outputId": "65388c6a-c214-40e0-b25a-37ad69e089a3"
      },
      "execution_count": 41,
      "outputs": [
        {
          "output_type": "execute_result",
          "data": {
            "text/plain": [
              "9"
            ]
          },
          "metadata": {},
          "execution_count": 41
        }
      ]
    },
    {
      "cell_type": "markdown",
      "source": [
        "Values in a list can be **overwritten**, **added**, or **deleted**. We can use their index to specify which location we would like to modify."
      ],
      "metadata": {
        "id": "MlMO0ZlhkgyY"
      }
    },
    {
      "cell_type": "code",
      "source": [
        "list1[0] = -5\n",
        "print(list1)"
      ],
      "metadata": {
        "colab": {
          "base_uri": "https://localhost:8080/"
        },
        "id": "Tv64JjnxkpXN",
        "outputId": "2dbac650-7168-4fef-e7e6-2c9e7cb8d1b4"
      },
      "execution_count": 46,
      "outputs": [
        {
          "output_type": "stream",
          "name": "stdout",
          "text": [
            "[-5, 4, 6, 7, 9, 0, 113]\n"
          ]
        }
      ]
    },
    {
      "cell_type": "code",
      "source": [
        "list1.append(226)\n",
        "print(list1)"
      ],
      "metadata": {
        "colab": {
          "base_uri": "https://localhost:8080/"
        },
        "id": "S1y2P8SukwRa",
        "outputId": "c213b332-c300-43ec-a46a-850cdb06a197"
      },
      "execution_count": 47,
      "outputs": [
        {
          "output_type": "stream",
          "name": "stdout",
          "text": [
            "[-5, 4, 6, 7, 9, 0, 113, 226]\n"
          ]
        }
      ]
    },
    {
      "cell_type": "code",
      "source": [
        "list1 + [1, 2, 3]"
      ],
      "metadata": {
        "colab": {
          "base_uri": "https://localhost:8080/"
        },
        "id": "ZLT0u7y_ldlQ",
        "outputId": "f30211c7-48a5-4632-bdac-a43d524598c8"
      },
      "execution_count": 48,
      "outputs": [
        {
          "output_type": "execute_result",
          "data": {
            "text/plain": [
              "[-5, 4, 6, 7, 9, 0, 113, 226, 1, 2, 3]"
            ]
          },
          "metadata": {},
          "execution_count": 48
        }
      ]
    },
    {
      "cell_type": "markdown",
      "source": [
        "**What does the code below do?**"
      ],
      "metadata": {
        "id": "FpLPYrGblgmQ"
      }
    },
    {
      "cell_type": "code",
      "source": [
        "list4 = [3, 4, 6, 7, 113, 226, 91]\n",
        "total = 0\n",
        "for val in list4:\n",
        "  if val % 2 == 1:\n",
        "    total = total + 1\n",
        "\n",
        "print(total)"
      ],
      "metadata": {
        "colab": {
          "base_uri": "https://localhost:8080/"
        },
        "id": "2rFBwV6fllL-",
        "outputId": "0d88c6c0-3d6f-4274-c76c-8bd928d2cfe7"
      },
      "execution_count": 51,
      "outputs": [
        {
          "output_type": "stream",
          "name": "stdout",
          "text": [
            "4\n"
          ]
        }
      ]
    },
    {
      "cell_type": "markdown",
      "source": [
        "## For loops\n",
        "\n",
        "What we saw in the code above is a **for loop**. A for loop is used to repeat an action until a specific condition is met. A common use is to iterate over the elements of a collection as long as the collection is a sequence.\n",
        "\n",
        "<img src=\"https://raw.githubusercontent.com/dss5202-2410/week1_intro/main/figures/for.png\" width=\"500\">\n",
        "\n",
        "You will often see a for loop used with the `range()` function to specify the number of times the action should be repeated."
      ],
      "metadata": {
        "id": "cA-MCj41mHbQ"
      }
    },
    {
      "cell_type": "code",
      "source": [
        "for i in range(0, 5):\n",
        "  print(i)"
      ],
      "metadata": {
        "colab": {
          "base_uri": "https://localhost:8080/"
        },
        "id": "4Bx0sCOHmX_4",
        "outputId": "32572ce7-0a78-4c6b-fdcb-a0e724db862b"
      },
      "execution_count": 52,
      "outputs": [
        {
          "output_type": "stream",
          "name": "stdout",
          "text": [
            "0\n",
            "1\n",
            "2\n",
            "3\n",
            "4\n"
          ]
        }
      ]
    },
    {
      "cell_type": "markdown",
      "source": [
        "For loops can also be used to visit every item in a list. These do not require the `range()` function."
      ],
      "metadata": {
        "id": "V9w9ysxxmkmx"
      }
    },
    {
      "cell_type": "code",
      "source": [
        "for color in [\"red\", \"green\", \"blue\"]:\n",
        "    print(color)"
      ],
      "metadata": {
        "colab": {
          "base_uri": "https://localhost:8080/"
        },
        "id": "tJs00U_7mr9L",
        "outputId": "aa8e9222-bfed-418f-a367-93d752f6a6f7"
      },
      "execution_count": 53,
      "outputs": [
        {
          "output_type": "stream",
          "name": "stdout",
          "text": [
            "red\n",
            "green\n",
            "blue\n"
          ]
        }
      ]
    },
    {
      "cell_type": "markdown",
      "source": [
        "Just like conditional statements, the contents of the for loop have to be indented at the same level to differentiate them from code outside the loop."
      ],
      "metadata": {
        "id": "wHUfltnymukY"
      }
    },
    {
      "cell_type": "code",
      "source": [
        "for i in range(2):\n",
        "    print(\"repeated inside the loop\")\n",
        "    print(\"also repeated inside the loop\")\n",
        "print(\"NOT REPEATED AS IT IS OUTSIDE THE LOOP\")"
      ],
      "metadata": {
        "colab": {
          "base_uri": "https://localhost:8080/"
        },
        "id": "_8DVNHgUm1In",
        "outputId": "3bc97b5d-fc69-4295-db3c-907719afb219"
      },
      "execution_count": 56,
      "outputs": [
        {
          "output_type": "stream",
          "name": "stdout",
          "text": [
            "repeated inside the loop\n",
            "also repeated inside the loop\n",
            "repeated inside the loop\n",
            "also repeated inside the loop\n",
            "NOT REPEATED AS IT IS OUTSIDE THE LOOP\n"
          ]
        }
      ]
    }
  ]
}