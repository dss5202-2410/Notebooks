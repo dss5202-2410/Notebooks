{
  "nbformat": 4,
  "nbformat_minor": 0,
  "metadata": {
    "colab": {
      "provenance": [],
      "authorship_tag": "ABX9TyMXkp9YnwggXa3lP9dsl6xg",
      "include_colab_link": true
    },
    "kernelspec": {
      "name": "python3",
      "display_name": "Python 3"
    },
    "language_info": {
      "name": "python"
    }
  },
  "cells": [
    {
      "cell_type": "markdown",
      "metadata": {
        "id": "view-in-github",
        "colab_type": "text"
      },
      "source": [
        "<a href=\"https://colab.research.google.com/github/dss5202-2410/Notebooks/blob/main/Intro_to_pandas.ipynb\" target=\"_parent\"><img src=\"https://colab.research.google.com/assets/colab-badge.svg\" alt=\"Open In Colab\"/></a>"
      ]
    },
    {
      "cell_type": "markdown",
      "source": [
        "# Introduction to `pandas`\n",
        "\n",
        "Data scientists have to deal with a lot of data at once. While Google Sheets and Excel are great ways to organize and visualize data, they are **NOT** as versatile as we might want.\n",
        "\n",
        "That is where **DataFrame**s come in.\n",
        "\n",
        "In this section, you will be introduced to data frames and learn to use them to obtain information from data.\n",
        "\n",
        "First of all, we will import the `numpy` and `pandas` libraries.\n",
        "\n",
        "+ In the code below, we import them under the alias `np` and `pd`, respectively."
      ],
      "metadata": {
        "id": "36tvp5x2I2V-"
      }
    },
    {
      "cell_type": "code",
      "source": [
        "import numpy as np\n",
        "import pandas as pd"
      ],
      "metadata": {
        "id": "YFUPP4MPJpYs"
      },
      "execution_count": 1,
      "outputs": []
    },
    {
      "cell_type": "markdown",
      "source": [
        "**Reminder about built-in documentations**\n",
        "\n",
        "We can explore the contents of a libary as well as the documentation of various functions using the `?` character. For example, to display `pandas`' built-in documentation, you can use the following:"
      ],
      "metadata": {
        "id": "6Htm2GwSJzdj"
      }
    },
    {
      "cell_type": "code",
      "source": [
        "pd?"
      ],
      "metadata": {
        "id": "UiI1p3EiKDft"
      },
      "execution_count": 2,
      "outputs": []
    },
    {
      "cell_type": "markdown",
      "source": [
        "## Series\n",
        "\n",
        "A `pandas` `series` is a one-dimensional array of indexed data. It can be created from a list of array."
      ],
      "metadata": {
        "id": "_Z0cJuEgKBz2"
      }
    },
    {
      "cell_type": "code",
      "source": [
        "s1 = pd.Series([3, 4.3, 2.7, 8, 91, 5.8])\n",
        "print(s1)"
      ],
      "metadata": {
        "colab": {
          "base_uri": "https://localhost:8080/"
        },
        "id": "JD8oIA6LKdqq",
        "outputId": "5299d17a-9483-43ae-f3a0-4966bc93f369"
      },
      "execution_count": 8,
      "outputs": [
        {
          "output_type": "stream",
          "name": "stdout",
          "text": [
            "0     3.0\n",
            "1     4.3\n",
            "2     2.7\n",
            "3     8.0\n",
            "4    91.0\n",
            "5     5.8\n",
            "dtype: float64\n"
          ]
        }
      ]
    },
    {
      "cell_type": "markdown",
      "source": [
        "As we see in the output, the `Series()` wraps both a sequence of values and a sequence of indices, which we can use to access the `values` and `index` attributes, respectively."
      ],
      "metadata": {
        "id": "AQWOx54gKmRT"
      }
    },
    {
      "cell_type": "code",
      "source": [
        "s1.values"
      ],
      "metadata": {
        "colab": {
          "base_uri": "https://localhost:8080/"
        },
        "id": "YEmCimMrKw-f",
        "outputId": "fdfd8a18-2f58-4c26-c100-48304f7f10af"
      },
      "execution_count": 9,
      "outputs": [
        {
          "output_type": "execute_result",
          "data": {
            "text/plain": [
              "array([ 3. ,  4.3,  2.7,  8. , 91. ,  5.8])"
            ]
          },
          "metadata": {},
          "execution_count": 9
        }
      ]
    },
    {
      "cell_type": "code",
      "source": [
        "s1.index"
      ],
      "metadata": {
        "colab": {
          "base_uri": "https://localhost:8080/"
        },
        "id": "EyLMlVfFKz0-",
        "outputId": "2ac7b1af-bbc6-4fa4-e022-d8ba31b036ad"
      },
      "execution_count": 10,
      "outputs": [
        {
          "output_type": "execute_result",
          "data": {
            "text/plain": [
              "RangeIndex(start=0, stop=6, step=1)"
            ]
          },
          "metadata": {},
          "execution_count": 10
        }
      ]
    },
    {
      "cell_type": "markdown",
      "source": [
        "Data can be accessed by the associated index via the square-bracket notation."
      ],
      "metadata": {
        "id": "umXcaxcwK3SW"
      }
    },
    {
      "cell_type": "code",
      "source": [
        "s1[1]"
      ],
      "metadata": {
        "colab": {
          "base_uri": "https://localhost:8080/"
        },
        "id": "fepdbAH-K7kt",
        "outputId": "baf40148-f0df-409d-bc7a-1466df31e5ae"
      },
      "execution_count": 11,
      "outputs": [
        {
          "output_type": "execute_result",
          "data": {
            "text/plain": [
              "4.3"
            ]
          },
          "metadata": {},
          "execution_count": 11
        }
      ]
    },
    {
      "cell_type": "code",
      "source": [
        "s1[0:2]"
      ],
      "metadata": {
        "colab": {
          "base_uri": "https://localhost:8080/"
        },
        "id": "8q5EsdiULCoF",
        "outputId": "5d519f5b-1a6e-40b6-d9aa-cdd7e3d5a8a2"
      },
      "execution_count": 12,
      "outputs": [
        {
          "output_type": "execute_result",
          "data": {
            "text/plain": [
              "0    3.0\n",
              "1    4.3\n",
              "dtype: float64"
            ]
          },
          "metadata": {},
          "execution_count": 12
        }
      ]
    },
    {
      "cell_type": "markdown",
      "source": [
        "Index in a given `series` need not be an integer, but can consist of values of any desired type. For example, we can use strings as an index."
      ],
      "metadata": {
        "id": "Oz9B3z9QLIk5"
      }
    },
    {
      "cell_type": "code",
      "source": [
        "s2 = pd.Series([3, 4.3, 2.7, 8, 91, 5.8],\n",
        "               index = [\"a\", \"b\", \"c\", \"d\", \"e\", \"f\"])\n",
        "print(s2)"
      ],
      "metadata": {
        "colab": {
          "base_uri": "https://localhost:8080/"
        },
        "id": "wPyFnYKCLTRG",
        "outputId": "5dd68ff1-08e1-4106-97e7-d9e8770e445e"
      },
      "execution_count": 13,
      "outputs": [
        {
          "output_type": "stream",
          "name": "stdout",
          "text": [
            "a     3.0\n",
            "b     4.3\n",
            "c     2.7\n",
            "d     8.0\n",
            "e    91.0\n",
            "f     5.8\n",
            "dtype: float64\n"
          ]
        }
      ]
    },
    {
      "cell_type": "markdown",
      "source": [
        "We can access items in the `series` in a similar way."
      ],
      "metadata": {
        "id": "G2F91BpwLS4U"
      }
    },
    {
      "cell_type": "code",
      "source": [
        "s2[\"b\"]"
      ],
      "metadata": {
        "colab": {
          "base_uri": "https://localhost:8080/"
        },
        "id": "MHGUSfCKLib9",
        "outputId": "70c176dc-2f44-4013-d315-a24fc1f9b473"
      },
      "execution_count": 14,
      "outputs": [
        {
          "output_type": "execute_result",
          "data": {
            "text/plain": [
              "4.3"
            ]
          },
          "metadata": {},
          "execution_count": 14
        }
      ]
    },
    {
      "cell_type": "markdown",
      "source": [
        "## DataFrame\n",
        "\n",
        "The next fundamental structure in `pandas` is the `DataFrame`."
      ],
      "metadata": {
        "id": "TTx4lZu5Ls0K"
      }
    }
  ]
}